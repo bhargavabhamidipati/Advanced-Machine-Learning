{
 "cells": [
  {
   "cell_type": "code",
   "execution_count": 2,
   "metadata": {},
   "outputs": [],
   "source": [
    "import torch\n",
    "import torch.nn.functional as F\n",
    "from torch import nn\n",
    "import torch.utils.data as data_utils\n",
    "from tqdm import tqdm\n",
    "import matplotlib.pyplot as plt"
   ]
  },
  {
   "cell_type": "markdown",
   "metadata": {},
   "source": [
    "## Basic Self Attention"
   ]
  },
  {
   "cell_type": "markdown",
   "metadata": {},
   "source": [
    "Calculating the raw weights"
   ]
  },
  {
   "cell_type": "code",
   "execution_count": null,
   "metadata": {},
   "outputs": [],
   "source": [
    "# assume we have tensor x with dimensions (b, t, k)\n",
    "x = ...\n",
    "\n",
    "raw_weights = torch.bmm(x ,x.transpose(1,2)) # x.T((1,2)) -> (b, k, t)\n",
    "# bmm means that for each sample in batch: x * x.T (t,k)*(k,t) = (t,t)\n",
    "# torch bmm is batched matrix multiplication. Applying matrix multiplication over batches of matrices"
   ]
  },
  {
   "cell_type": "markdown",
   "metadata": {},
   "source": [
    "Applying softmax to normalize the weights"
   ]
  },
  {
   "cell_type": "code",
   "execution_count": null,
   "metadata": {},
   "outputs": [],
   "source": [
    "weights = F.softmax(raw_weights, dim=2)"
   ]
  },
  {
   "cell_type": "markdown",
   "metadata": {},
   "source": [
    "Weighted linear combination of input vectors to get output vectors"
   ]
  },
  {
   "cell_type": "code",
   "execution_count": null,
   "metadata": {},
   "outputs": [],
   "source": [
    "y = torch.bmm(weights, X)"
   ]
  },
  {
   "cell_type": "markdown",
   "metadata": {},
   "source": [
    "## Complete Self Attention\n",
    "This cell contains the code for a single multi-headed attention block"
   ]
  },
  {
   "cell_type": "code",
   "execution_count": 6,
   "metadata": {},
   "outputs": [],
   "source": [
    "class SelfAttention(nn.Module):\n",
    "    def __init__(self, k, heads=4, mask=False):\n",
    "        super().__init__()\n",
    "        assert k % heads == 0\n",
    "        self.k, self.heads = k, heads\n",
    "\n",
    "        self.toKeys = nn.Linear(k, k, bias=False)\n",
    "        self.toQueries = nn.Linear(k,k, bias=False)\n",
    "        self.toValues = nn.Linear(k,k, bias=False)\n",
    "\n",
    "        self.unifyHeads = nn.Linear(k, k)\n",
    "\n",
    "    def forward(self, x):\n",
    "        b, t, k = x.size()\n",
    "\n",
    "        h = self.heads\n",
    "\n",
    "        queries = self.toQueries(x)\n",
    "        keys    = self.toKeys(x)\n",
    "        values  = self.toValues(x)\n",
    "\n",
    "        s = k // h\n",
    "        \n",
    "        keys = keys.view((b, t, h, s))\n",
    "        values = values.view((b, t, h, s))\n",
    "        queries = queries.view((b, t, h, s))\n",
    "\n",
    "        # - fold heads into the batch dimension\n",
    "        keys = keys.transpose(1, 2).contiguous().view(b * h, t, s)\n",
    "        queries = queries.transpose(1, 2).contiguous().view(b * h, t, s)\n",
    "        values = values.transpose(1, 2).contiguous().view(b * h, t, s)\n",
    "\n",
    "        # get dot product of queries and keys and scale\n",
    "        dot = torch.bmm(queries, keys.transpose(1,2))\n",
    "        # scale the dot\n",
    "        dot = dot / (k ** 0.5)\n",
    "        # dont forget the softmax\n",
    "        dot = F.softmax(dot, dim=2)\n",
    "        # apply self attn\n",
    "        out = torch.bmm(dot, values).view (b, h, t, s)\n",
    "\n",
    "        # swap h, t back, unify heads\n",
    "        out = out.transpose(1, 2).contiguous().view(b, t, h * s)\n",
    "        \n",
    "        return self.unifyHeads(out)\n",
    "    "
   ]
  },
  {
   "cell_type": "markdown",
   "metadata": {},
   "source": [
    "## Transformer Architecture\n",
    "A transformer is not a self-attention layer, just like a CNN is not a single convolution. Roughly stated, it's a an architecture processing tokens in a sequence and their interactions using self attention."
   ]
  },
  {
   "cell_type": "code",
   "execution_count": 7,
   "metadata": {},
   "outputs": [],
   "source": [
    "class TransformerBlock(nn.Module): # emulates the TransformerEncoderLayer\n",
    "    def __init__(self, k, heads):\n",
    "        super().__init__()\n",
    "\n",
    "        self.attention = SelfAttention(k, heads=heads)\n",
    "\n",
    "        self.norm1 = nn.LayerNorm(k)\n",
    "        self.norm2 = nn.LayerNorm(k)\n",
    "\n",
    "        self.ff = nn.Sequential(\n",
    "            nn.Linear(k, 4 * k),\n",
    "            nn.ReLU(),\n",
    "            nn.Linear(4 * k, k),\n",
    "        )\n",
    "\n",
    "    def forward(self, x):\n",
    "        attended = self.attention(x)\n",
    "        x = self.norm1(attended + x)\n",
    "        \n",
    "        fedforward = self.ff(x)\n",
    "        return self.norm2(fedforward + x)"
   ]
  },
  {
   "cell_type": "markdown",
   "metadata": {},
   "source": [
    "## Classification Transformer"
   ]
  },
  {
   "cell_type": "code",
   "execution_count": 8,
   "metadata": {},
   "outputs": [],
   "source": [
    "class Transformer(nn.Module):\n",
    "    def __init__(self, k, heads, depth, seq_length, num_tokens, num_classes):\n",
    "        # k is emulated by d_model\n",
    "        # ntoken is num_tokens\n",
    "        # nhead is heads\n",
    "        # nlayers is depth\n",
    "        # d\n",
    "        super().__init__()\n",
    "\n",
    "        self.num_tokens = num_tokens\n",
    "        self.token_emb = nn.Embedding(num_tokens, k) # will perform embedding for num_tokens unique inputs into dimension k\n",
    "        self.pos_emb = nn.Embedding(seq_length, k)\n",
    "\n",
    "        tblocks = [] # emulates the TransformerEncoder\n",
    "        for i in range(depth): # depth specifies number of transformer blocks\n",
    "            tblocks.append(TransformerBlock(k=k, heads=heads))\n",
    "        self.tblocks = nn.Sequential(*tblocks)\n",
    "\n",
    "        self.toprobs = nn.Linear(k, num_classes)\n",
    "\n",
    "    def forward(self, x):\n",
    "        \"\"\"\n",
    "        :param x: A (b, t) tensor of integer values representing\n",
    "                  words (in some predetermined vocabulary).\n",
    "        :return: A (b, c) tensor of log-probabilities over the\n",
    "                 classes (where c is the nr. of classes).\n",
    "        \"\"\"\n",
    "        tokens = self.token_emb(x)\n",
    "        b, t, k = tokens.size()\n",
    "\n",
    "        positions = torch.arange(t)\n",
    "        positions = self.pos_emb(positions)[None, :, :].expand(b, t, k)\n",
    "\n",
    "        x = tokens + positions\n",
    "        x = self.tblocks(x)\n",
    "        x = self.toprobs(x.mean(axis=1))        \n",
    "        return F.softmax(x, dim=1)"
   ]
  },
  {
   "cell_type": "markdown",
   "metadata": {},
   "source": [
    "- initialize the model - DONE\n",
    "- use cuda if available - \n",
    "- choose appropriate optim - DONE\n",
    "- construct vocab of unique words - DONE\n",
    "- map each word in each seq to corresponding index in vocab - DONE\n",
    "- training loop over epochs DONE\n",
    "    - iterate over batches DONE\n",
    "    - zero grad DONE\n",
    "    - just pass text through model DONE\n",
    "    - use bce then do loss.backward() DONE \n",
    "    - opt.step() DONE"
   ]
  },
  {
   "cell_type": "code",
   "execution_count": 34,
   "metadata": {},
   "outputs": [
    {
     "ename": "ValueError",
     "evalue": "empty separator",
     "output_type": "error",
     "traceback": [
      "\u001b[1;31m---------------------------------------------------------------------------\u001b[0m",
      "\u001b[1;31mValueError\u001b[0m                                Traceback (most recent call last)",
      "Cell \u001b[1;32mIn[34], line 1\u001b[0m\n\u001b[1;32m----> 1\u001b[0m \u001b[38;5;124;43m'\u001b[39;49m\u001b[38;5;124;43mHello my name is Ahmed.\u001b[39;49m\u001b[38;5;124;43m'\u001b[39;49m\u001b[38;5;241;43m.\u001b[39;49m\u001b[43msplit\u001b[49m\u001b[43m(\u001b[49m\u001b[38;5;124;43m'\u001b[39;49m\u001b[38;5;124;43m'\u001b[39;49m\u001b[43m)\u001b[49m\n",
      "\u001b[1;31mValueError\u001b[0m: empty separator"
     ]
    }
   ],
   "source": [
    "'Hello my name is Ahmed.'.split('')"
   ]
  },
  {
   "cell_type": "code",
   "execution_count": 35,
   "metadata": {},
   "outputs": [],
   "source": [
    "with open('amazon_cells_labelled.txt', 'r') as f:\n",
    "    content = f.read()\n",
    "lines = content.splitlines()\n",
    "review_label_pairs = [line.split('\\t') for line in lines]\n",
    "vocab = {}\n",
    "for review, label in review_label_pairs:\n",
    "    # for word in review.split(''):\n",
    "    for char in review:\n",
    "        try:\n",
    "            # vocab[word] += 1\n",
    "            vocab[char] += 1\n",
    "        except:\n",
    "            # vocab[word] = 1\n",
    "            vocab[char] = 1\n",
    "\n",
    "vocab = list(vocab.keys())\n",
    "encoded_pairs = []\n",
    "for review, label in review_label_pairs:\n",
    "    encoded_words = []\n",
    "    for char in review: # .split(''):\n",
    "        encoded_words.append(vocab.index(char))\n",
    "    label = 1 if label == '1' else 0\n",
    "    encoded_pairs.append((encoded_words, label))\n",
    "encoded_pairs\n",
    "\n",
    "max_seq = 0\n",
    "for pair in encoded_pairs:\n",
    "    if len(pair[0]) > max_seq:\n",
    "        max_seq = len(pair[0])\n",
    "\n",
    "# Building labels\n",
    "labels = [pair[1] for pair in encoded_pairs]\n",
    "labels = torch.tensor(labels)\n",
    "\n",
    "# Building inputs seqs\n",
    "input_seqs = [pair[0] for pair in encoded_pairs]\n",
    "padding_token = len(vocab) # for padding assign len(vocab)\n",
    "for seq in input_seqs:\n",
    "    while len(seq) < max_seq:\n",
    "        seq.append(padding_token)\n",
    "input_seqs =torch.tensor(input_seqs)\n",
    "\n",
    "# for unknown tokens assign len(vocab) + 1\n",
    "dataset = data_utils.TensorDataset(input_seqs, labels)\n",
    "loader = data_utils.DataLoader(dataset, batch_size=50, shuffle=True)\n",
    "train_set, test_set = torch.utils.data.random_split(dataset, [0.9, 0.1])\n",
    "train_loader  = data_utils.DataLoader(train_set, batch_size=50, shuffle=True)\n",
    "test_loader = data_utils.DataLoader(test_set, batch_size=50, shuffle=True)"
   ]
  },
  {
   "cell_type": "code",
   "execution_count": 37,
   "metadata": {},
   "outputs": [
    {
     "name": "stderr",
     "output_type": "stream",
     "text": [
      "100%|██████████| 200/200 [15:17<00:00,  4.59s/it]\n"
     ]
    }
   ],
   "source": [
    "EPOCHS = 200\n",
    "model = Transformer(k=128, heads=4, seq_length=max_seq, num_tokens=len(vocab)+2, num_classes=2, depth=3)\n",
    "loss_fn = nn.BCELoss()\n",
    "lr = 1e-4\n",
    "optim = torch.optim.Adam(lr=lr, params=model.parameters())\n",
    "\n",
    "trn_losses = []\n",
    "vocab_len = len(vocab) + 2\n",
    "model.train()\n",
    "for epoch in tqdm(range(EPOCHS)):\n",
    "    for batch, (input_seqs, labels) in enumerate(train_loader):\n",
    "        outputs = model(input_seqs)\n",
    "        outputs = outputs[:,1]\n",
    "        loss = loss_fn(outputs, labels.to(torch.float32))\n",
    "\n",
    "        optim.zero_grad()\n",
    "        loss.backward()\n",
    "        optim.step()\n",
    "\n",
    "        if batch == 0:\n",
    "            trn_losses.append(loss.item())\n",
    "        #    tqdm.write(f\"Epoch {epoch}/{EPOCHS}. Loss: {loss}\")\n"
   ]
  },
  {
   "cell_type": "code",
   "execution_count": 38,
   "metadata": {},
   "outputs": [
    {
     "data": {
      "image/png": "[encoded data removed]",
      "text/plain": [
       "<Figure size 640x480 with 1 Axes>"
      ]
     },
     "metadata": {},
     "output_type": "display_data"
    }
   ],
   "source": [
    "plt.figure()\n",
    "plt.plot(range(EPOCHS), trn_losses)\n",
    "plt.grid(which='major')"
   ]
  },
  {
   "cell_type": "code",
   "execution_count": 22,
   "metadata": {},
   "outputs": [],
   "source": [
    "def encode(text):\n",
    "    encoded_text = []\n",
    "    for word in text.split():\n",
    "        if word in vocab:\n",
    "            encoded_text.append(vocab.index(word))\n",
    "        else:\n",
    "            encoded_text.append(len(vocab) + 1)\n",
    "    while len(encoded_text) < max_seq:\n",
    "        encoded_text.append(len(vocab))\n",
    "    return torch.tensor(encoded_text)"
   ]
  },
  {
   "cell_type": "code",
   "execution_count": 39,
   "metadata": {},
   "outputs": [],
   "source": [
    "encoded_text = encode(\"This vacuum is really bad\")\n",
    "output = model(encoded_text.reshape(1,-1))\n"
   ]
  },
  {
   "cell_type": "code",
   "execution_count": 40,
   "metadata": {},
   "outputs": [
    {
     "name": "stdout",
     "output_type": "stream",
     "text": [
      "Test accuracy: 54.00%\n"
     ]
    }
   ],
   "source": [
    "model.eval()\n",
    "correct = 0\n",
    "for input_seqs, labels in test_loader:\n",
    "    pred_labels = model(input_seqs)\n",
    "    pred_labels = pred_labels.argmax(axis=1)\n",
    "    correct += (pred_labels == labels).sum().item()\n",
    "print(f\"Test accuracy: {correct*100/len(test_loader.dataset):>.2f}%\")"
   ]
  },
  {
   "cell_type": "code",
   "execution_count": 33,
   "metadata": {},
   "outputs": [
    {
     "name": "stdout",
     "output_type": "stream",
     "text": [
      "--------------------------------------------------\n",
      "I did not like this product\n",
      "The user input is NEGATIVE\n",
      "--------------------------------------------------\n",
      "I really liked it!\n",
      "The user input is POSITIVE\n",
      "--------------------------------------------------\n"
     ]
    }
   ],
   "source": [
    "print('-'*50)\n",
    "user_input = input()\n",
    "while user_input != '':\n",
    "    print(user_input)\n",
    "    encoded_text = encode(user_input)\n",
    "    output = model(encoded_text.reshape(1,-1))\n",
    "    print(f\"The user input is {'NEGATIVE' if output.argmax().item() == 0 else 'POSITIVE'}\")\n",
    "    print('-'*50)\n",
    "    user_input = input()"
   ]
  },
  {
   "cell_type": "code",
   "execution_count": 2,
   "metadata": {},
   "outputs": [],
   "source": [
    "from keras import layers\n",
    "import numpy as np"
   ]
  },
  {
   "cell_type": "code",
   "execution_count": 13,
   "metadata": {},
   "outputs": [
    {
     "data": {
      "text/plain": [
       "TensorShape([2, 4, 2, 1])"
      ]
     },
     "execution_count": 13,
     "metadata": {},
     "output_type": "execute_result"
    }
   ],
   "source": [
    "x = layers.UpSampling2D(size=(2,2))\n",
    "example_tensor = np.array(([[[[1,2],\n",
    "                            [3,4]]]]))\n",
    "x(example_tensor.reshape((2,2,1,1))).shape"
   ]
  },
  {
   "cell_type": "code",
   "execution_count": null,
   "metadata": {},
   "outputs": [],
   "source": []
  }
 ],
 "metadata": {
  "kernelspec": {
   "display_name": "Python 3",
   "language": "python",
   "name": "python3"
  },
  "language_info": {
   "codemirror_mode": {
    "name": "ipython",
    "version": 3
   },
   "file_extension": ".py",
   "mimetype": "text/x-python",
   "name": "python",
   "nbconvert_exporter": "python",
   "pygments_lexer": "ipython3",
   "version": "3.11.2"
  }
 },
 "nbformat": 4,
 "nbformat_minor": 2
}
