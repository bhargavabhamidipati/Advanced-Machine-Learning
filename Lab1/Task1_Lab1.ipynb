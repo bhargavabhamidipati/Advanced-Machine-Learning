{
 "cells": [
  {
   "cell_type": "code",
   "execution_count": 14,
   "id": "14a7aa5d-7285-4dc2-acc5-1f689307f30a",
   "metadata": {
    "colab": {
     "base_uri": "https://localhost:8080/"
    },
    "id": "14a7aa5d-7285-4dc2-acc5-1f689307f30a",
    "outputId": "a1190050-19e8-4cf5-c0c7-66cc8d2556ad"
   },
   "outputs": [
    {
     "name": "stderr",
     "output_type": "stream",
     "text": [
      "[nltk_data] Downloading package punkt to /root/nltk_data...\n",
      "[nltk_data]   Package punkt is already up-to-date!\n",
      "[nltk_data] Downloading package stopwords to /root/nltk_data...\n",
      "[nltk_data]   Package stopwords is already up-to-date!\n"
     ]
    }
   ],
   "source": [
    "# import all libraries\n",
    "import nltk\n",
    "nltk.download('punkt')         # only needed first time\n",
    "nltk.download('stopwords')     # only needed first time\n",
    "import torch\n",
    "import torch.nn as nn\n",
    "import torch.optim as optim\n",
    "import torch.nn.functional as F\n",
    "from torch.utils.data import TensorDataset, DataLoader, Dataset\n",
    "import numpy as np\n",
    "from matplotlib import pyplot as plt\n",
    "import pandas as pd\n",
    "from sklearn.model_selection import train_test_split\n",
    "from sklearn.feature_extraction.text import TfidfVectorizer\n",
    "from nltk.corpus import stopwords\n",
    "from nltk import word_tokenize\n",
    "from sklearn.metrics import accuracy_score, confusion_matrix, precision_score, recall_score, classification_report\n",
    "from copy import deepcopy\n",
    "import joblib\n",
    "from torch import nn, optim, no_grad, float, device, cuda, sum"
   ]
  },
  {
   "cell_type": "code",
   "execution_count": 15,
   "id": "cf7478b7-8f2c-4f86-be15-b53aab937c2c",
   "metadata": {
    "id": "cf7478b7-8f2c-4f86-be15-b53aab937c2c"
   },
   "outputs": [],
   "source": [
    "# Define a custom dataset\n",
    "class MyDataset(Dataset):\n",
    "    def __init__(self, X, y):\n",
    "        self.X = X\n",
    "        self.y = y\n",
    "\n",
    "    def __len__(self):\n",
    "        return len(self.X)\n",
    "\n",
    "    def __getitem__(self, idx):\n",
    "        return self.X[idx], self.y[idx]"
   ]
  },
  {
   "cell_type": "code",
   "execution_count": 16,
   "id": "4615ecb4-2d9e-4085-805d-7e3970f94506",
   "metadata": {
    "id": "4615ecb4-2d9e-4085-805d-7e3970f94506"
   },
   "outputs": [],
   "source": [
    "# Define a simple neural network model\n",
    "class SimpleNN(nn.Module):\n",
    "    def __init__(self, input_size, hidden_size, output_size):\n",
    "        super(SimpleNN, self).__init__()\n",
    "        self.fc1 = nn.Linear(input_size, hidden_size)\n",
    "        self.fc2 = nn.Linear(hidden_size, output_size)\n",
    "        self.relu = nn.ReLU()\n",
    "        self.sigmoid = nn.Sigmoid()\n",
    "\n",
    "    def forward(self, x):\n",
    "        x = self.fc1(x)\n",
    "        x = self.relu(x)\n",
    "        x = self.fc2(x)\n",
    "        x = self.sigmoid(x)\n",
    "        return x"
   ]
  },
  {
   "cell_type": "code",
   "execution_count": 48,
   "id": "e710cda6-d734-4c15-9153-e299673b9e73",
   "metadata": {
    "id": "e710cda6-d734-4c15-9153-e299673b9e73"
   },
   "outputs": [],
   "source": [
    "def train(train_loader, model, criterion, optimizer, device):\n",
    "    model.train()\n",
    "    train_loss = 0.0\n",
    "    for X, y in train_loader:\n",
    "        X, y = X.to(device), y.to(device)\n",
    "        optimizer.zero_grad()\n",
    "        output = model(X)\n",
    "        loss = criterion(output, y)\n",
    "        loss.backward()\n",
    "        optimizer.step()\n",
    "        train_loss += loss.item() * X.size(0)  # Accumulate the loss\n",
    "    train_loss /= len(train_loader.dataset)  # Calculate the average loss\n",
    "    return train_loss\n",
    "\n",
    "def test(data_loader, model, criterion, device):\n",
    "    model.eval()\n",
    "    test_loss = 0.0\n",
    "    correct = 0\n",
    "    total = 0\n",
    "    with torch.no_grad():\n",
    "        for X, y in data_loader:\n",
    "            X, y = X.to(device), y.to(device)\n",
    "            output = model(X)\n",
    "            loss = criterion(output, y)\n",
    "            test_loss += loss.item() * X.size(0)  # Accumulate the loss\n",
    "            _, predicted = torch.max(output, 1)\n",
    "            correct += (predicted == y).sum().item()\n",
    "            total += y.size(0)\n",
    "    test_loss /= len(data_loader.dataset)  # Calculate the average loss\n",
    "    accuracy = correct / total\n",
    "    return test_loss, accuracy"
   ]
  },
  {
   "cell_type": "code",
   "execution_count": 49,
   "id": "aac25508-8625-4be7-b2d9-b2ae425d682e",
   "metadata": {
    "id": "aac25508-8625-4be7-b2d9-b2ae425d682e"
   },
   "outputs": [],
   "source": [
    "def preprocess_pandas(data, columns):\n",
    "    df_ = pd.DataFrame(columns=columns)\n",
    "    data['Sentence'] = data['Sentence'].str.lower()\n",
    "    data['Sentence'] = data['Sentence'].replace('[a-zA-Z0-9-_.]+@[a-zA-Z0-9-_.]+', '', regex=True)                      # remove emails\n",
    "    data['Sentence'] = data['Sentence'].replace('((25[0-5]|2[0-4][0-9]|[01]?[0-9][0-9]?)(\\.|$)){4}', '', regex=True)    # remove IP address\n",
    "    data['Sentence'] = data['Sentence'].str.replace('[^\\w\\s]','')                                                       # remove special characters\n",
    "    data['Sentence'] = data['Sentence'].replace('\\d', '', regex=True)                                                   # remove numbers\n",
    "    for index, row in data.iterrows():\n",
    "        word_tokens = word_tokenize(row['Sentence'])\n",
    "        filtered_sent = [w for w in word_tokens if not w in stopwords.words('english')]\n",
    "        df_ = df_._append({\n",
    "            \"index\": row['index'],\n",
    "            \"Class\": row['Class'],\n",
    "            \"Sentence\": \" \".join(filtered_sent[0:])\n",
    "        }, ignore_index=True)\n",
    "    return data\n"
   ]
  },
  {
   "cell_type": "code",
   "execution_count": 50,
   "id": "f680c6ac-44b2-47db-8685-00562f6beb43",
   "metadata": {
    "id": "f680c6ac-44b2-47db-8685-00562f6beb43"
   },
   "outputs": [],
   "source": [
    "# get data, pre-process and split\n",
    "data = pd.read_csv(\"amazon_cells_labelled.txt\", delimiter='\\t', header=None)\n",
    "data.columns = ['Sentence', 'Class']\n",
    "data['index'] = data.index                                          # add new column index\n",
    "columns = ['index', 'Class', 'Sentence']\n",
    "data = preprocess_pandas(data, columns)                             # pre-process\n",
    "\n",
    "training_data, validation_data, training_labels, validation_labels = train_test_split( # split the data into training, validation, and test splits\n",
    "    data['Sentence'].values.astype('U'),\n",
    "    data['Class'].values.astype('int32'),\n",
    "    test_size=0.10,\n",
    "    random_state=0,\n",
    "    shuffle=True\n",
    ")\n",
    "\n",
    "test_data, validation_data, test_labels, validation_labels = train_test_split( # split the data into training, validation, and test splits\n",
    "    validation_data,\n",
    "    validation_labels,\n",
    "    test_size=0.50,\n",
    "    random_state=0,\n",
    "    shuffle=True\n",
    ")\n",
    "\n",
    "# vectorize data using TFIDF and transform for PyTorch for scalability\n",
    "word_vectorizer = TfidfVectorizer(analyzer='word', ngram_range=(1,2), max_features=50000, max_df=0.5, use_idf=True, norm='l2')\n",
    "training_data = word_vectorizer.fit_transform(training_data)        # transform texts to sparse matrix\n",
    "\n",
    "# Save the vectorizer, to be used later by bot to tranform user input\n",
    "joblib.dump(word_vectorizer, 'word_vectorizer.pkl')\n",
    "\n",
    "training_data = training_data.todense()                             # convert to dense matrix for Pytorch\n",
    "vocab_size = len(word_vectorizer.vocabulary_)\n",
    "validation_data = word_vectorizer.transform(validation_data)\n",
    "validation_data = validation_data.todense()\n",
    "test_data = word_vectorizer.transform(test_data)\n",
    "test_data = test_data.todense()\n",
    "train_x_tensor = torch.from_numpy(np.array(training_data)).type(torch.FloatTensor)\n",
    "train_y_tensor = torch.from_numpy(np.array(training_labels)).long()\n",
    "validation_x_tensor = torch.from_numpy(np.array(validation_data)).type(torch.FloatTensor)\n",
    "validation_y_tensor = torch.from_numpy(np.array(validation_labels)).long()\n",
    "test_x_tensor = torch.from_numpy(np.array(test_data)).type(torch.FloatTensor)\n",
    "test_y_tensor = torch.from_numpy(np.array(test_labels)).long()\n",
    "\n",
    "# Create a dataset instance\n",
    "train_dataset = MyDataset(train_x_tensor, train_y_tensor)\n",
    "val_dataset = MyDataset(validation_x_tensor, validation_y_tensor)\n",
    "test_dataset = MyDataset(test_x_tensor, test_y_tensor)"
   ]
  },
  {
   "cell_type": "code",
   "execution_count": 62,
   "id": "f98cae10-d75c-4d21-a13a-175e2479638f",
   "metadata": {
    "colab": {
     "base_uri": "https://localhost:8080/",
     "height": 599
    },
    "id": "f98cae10-d75c-4d21-a13a-175e2479638f",
    "outputId": "6d9a16b9-31fb-4b2e-96fb-6527a8b02f37"
   },
   "outputs": [
    {
     "data": {
      "image/png": "[encoded data removed]",
      "text/plain": [
       "<Figure size 1000x600 with 1 Axes>"
      ]
     },
     "metadata": {},
     "output_type": "display_data"
    },
    {
     "name": "stdout",
     "output_type": "stream",
     "text": [
      "Test Accuracy: 88.00%\n",
      "Done!\n"
     ]
    }
   ],
   "source": [
    "import matplotlib.pyplot as plt\n",
    "\n",
    "# Hyperparams. Set these to reasonable values\n",
    "BATCH_SIZE = 100\n",
    "SHUFFLE = 2\n",
    "LEARNING_RATE = 0.001\n",
    "epochs = 500\n",
    "\n",
    "# Define device\n",
    "device = torch.device(\"cuda\" if torch.cuda.is_available() else \"cpu\")\n",
    "\n",
    "# Load data in the loader\n",
    "train_loader = DataLoader(train_dataset, batch_size=BATCH_SIZE, shuffle=True)\n",
    "val_loader = DataLoader(val_dataset, batch_size=BATCH_SIZE, shuffle=True)\n",
    "test_loader = DataLoader(test_dataset, batch_size=BATCH_SIZE, shuffle=True)\n",
    "\n",
    "# Load our network\n",
    "model = SimpleNN(vocab_size, 20, 2).to(device)\n",
    "\n",
    "# Define our loss function\n",
    "criterion = nn.CrossEntropyLoss()\n",
    "\n",
    "# Define our optimizer\n",
    "optimizer = torch.optim.Adam(model.parameters(), lr=LEARNING_RATE, weight_decay=0.001)\n",
    "\n",
    "train_losses = []\n",
    "val_losses = []\n",
    "\n",
    "# Train the model\n",
    "for epoch in range(epochs):\n",
    "    train_loss = train(train_loader, model, criterion, optimizer, device)\n",
    "    val_loss, _ = test(val_loader, model, criterion, device)\n",
    "    train_losses.append(train_loss)\n",
    "    val_losses.append(val_loss)\n",
    "\n",
    "# Plotting the training and validation loss curves\n",
    "plt.figure(figsize=(10, 6))\n",
    "plt.plot(range(1, epoch + 2), val_losses, color='red', linestyle='-', label='Validation Loss')\n",
    "plt.plot(range(1, epoch + 2), train_losses, color='green', linestyle='-', label='Training Loss')\n",
    "plt.legend()\n",
    "plt.xlabel('Epoch')\n",
    "plt.ylabel('Loss')\n",
    "plt.title('Loss at each epoch')\n",
    "plt.show()\n",
    "\n",
    "# Evaluate the model on the test set\n",
    "_,test_accuracy = test(test_loader, model, criterion, device)\n",
    "print(f\"Test Accuracy: {test_accuracy * 100:.2f}%\")\n",
    "\n",
    "print(\"Done!\")"
   ]
  },
  {
   "cell_type": "markdown",
   "id": "32f0ba09-052c-465e-bbd4-f5a5e89de9c3",
   "metadata": {
    "id": "32f0ba09-052c-465e-bbd4-f5a5e89de9c3"
   },
   "source": [
    "### Bot that accepts user input, analyses it and responds to the user based on it analysis. Bot uses previously trained model for its analysis."
   ]
  },
  {
   "cell_type": "code",
   "execution_count": 64,
   "id": "b5c75639-5fd5-4d1b-99b5-7507064d22a7",
   "metadata": {
    "colab": {
     "base_uri": "https://localhost:8080/"
    },
    "id": "b5c75639-5fd5-4d1b-99b5-7507064d22a7",
    "outputId": "75cd4f26-8061-477c-9589-d9911617bc8a"
   },
   "outputs": [
    {
     "name": "stdout",
     "output_type": "stream",
     "text": [
      "Bot: Hello! How are you feeling today? I will tell you if it is positive or negative.\n",
      "User: good\n",
      "Bot: Positive\n",
      "User: very good\n",
      "Bot: Positive\n",
      "User: bad\n",
      "Bot: Negative\n",
      "User: amazing\n",
      "Bot: Positive\n",
      "User: super\n",
      "Bot: Positive\n",
      "User: exit\n",
      "Bot: Goodbye!\n"
     ]
    }
   ],
   "source": [
    "# Define a function to get a response for a given prompt\n",
    "def get_response(inp,model):\n",
    "\n",
    "    with torch.no_grad():\n",
    "        output = model(inp)\n",
    "        _, predicted = torch.max(output.data,1)\n",
    "    #print(output)\n",
    "    #print(predicted)\n",
    "\n",
    "    if predicted == torch.tensor([0]):\n",
    "        return 'Negative'\n",
    "    else:\n",
    "        return 'Positive'\n",
    "\n",
    "\n",
    "# Function to pre-process input data\n",
    "def preprocess_user_input(prompt):\n",
    "    # get data, pre-process\n",
    "    data = pd.DataFrame([[prompt, None]], columns=['Sentence', 'Class'])\n",
    "    data['index'] = data.index                                          # add new column index\n",
    "    columns = ['index', 'Class', 'Sentence']\n",
    "    data = preprocess_pandas(data, columns)\n",
    "    data['Sentence'].values.astype('U')\n",
    "\n",
    "\n",
    "    # load and use the vectorizer for transforming the user input\n",
    "    loaded_word_vectorizer = joblib.load('word_vectorizer.pkl')\n",
    "    vocab_size = len(loaded_word_vectorizer.vocabulary_)\n",
    "    inp_data = loaded_word_vectorizer.transform(data['Sentence']) # transform texts to sparse matrix\n",
    "    inp_data = inp_data.todense()                             # convert to dense matrix for Pytorch\n",
    "    inp_x_tensor = torch.from_numpy(np.array(inp_data)).type(torch.FloatTensor)\n",
    "\n",
    "    return inp_x_tensor, vocab_size\n",
    "\n",
    "\n",
    "# Main function to run the chatbot\n",
    "def main():\n",
    "    print(\"Bot: Hello! How are you feeling today? I will tell you if it is positive or negative.\")\n",
    "\n",
    "    while True:\n",
    "        user_input = input(\"User: \")\n",
    "\n",
    "        if user_input.lower() == 'exit':\n",
    "            print(\"Bot: Goodbye!\")\n",
    "            break\n",
    "\n",
    "        # Preprocess the input\n",
    "        inp_x_tensor, vocab_size = preprocess_user_input(user_input)\n",
    "        #print(inp_x_tensor)vs\n",
    "\n",
    "        # Use the trained model to get the bot response. Bot responds with its analysis indicating wheter user input is positive or negative\n",
    "        response = get_response(inp_x_tensor, model)\n",
    "        print(\"Bot:\", response)\n",
    "\n",
    "if __name__ == \"__main__\":\n",
    "    main()"
   ]
  },
  {
   "cell_type": "code",
   "execution_count": null,
   "id": "d8eacf65-b2fa-4e2f-81d1-8e1d10daafd4",
   "metadata": {
    "id": "d8eacf65-b2fa-4e2f-81d1-8e1d10daafd4"
   },
   "outputs": [],
   "source": []
  },
  {
   "cell_type": "code",
   "execution_count": null,
   "id": "8158708f-4c51-452e-9752-353b31a95828",
   "metadata": {
    "id": "8158708f-4c51-452e-9752-353b31a95828"
   },
   "outputs": [],
   "source": []
  },
  {
   "cell_type": "code",
   "execution_count": null,
   "id": "20931030-cde1-462c-b594-67dc9f3da6cd",
   "metadata": {
    "id": "20931030-cde1-462c-b594-67dc9f3da6cd"
   },
   "outputs": [],
   "source": []
  },
  {
   "cell_type": "code",
   "execution_count": null,
   "id": "140cb179-65f6-4b7c-82c6-99e3e27c2af6",
   "metadata": {
    "id": "140cb179-65f6-4b7c-82c6-99e3e27c2af6"
   },
   "outputs": [],
   "source": []
  }
 ],
 "metadata": {
  "colab": {
   "provenance": []
  },
  "kernelspec": {
   "display_name": "Python 3 (ipykernel)",
   "language": "python",
   "name": "python3"
  },
  "language_info": {
   "codemirror_mode": {
    "name": "ipython",
    "version": 3
   },
   "file_extension": ".py",
   "mimetype": "text/x-python",
   "name": "python",
   "nbconvert_exporter": "python",
   "pygments_lexer": "ipython3",
   "version": "3.8.18"
  }
 },
 "nbformat": 4,
 "nbformat_minor": 5
}
